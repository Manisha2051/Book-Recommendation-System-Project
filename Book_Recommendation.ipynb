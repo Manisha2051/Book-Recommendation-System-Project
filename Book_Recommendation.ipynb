{
 "cells": [
  {
   "cell_type": "code",
   "execution_count": 1,
   "id": "1d5b39fe-9ac4-4c75-91d9-473c3ae606f1",
   "metadata": {},
   "outputs": [],
   "source": [
    "import pandas as pd\n",
    "import numpy as np\n",
    "import matplotlib.pyplot as plt\n",
    "import plotly.express as plx"
   ]
  },
  {
   "cell_type": "code",
   "execution_count": 2,
   "id": "ce631a2f-aadc-4ba8-aa5c-b8ccfed9323b",
   "metadata": {},
   "outputs": [],
   "source": [
    "books_data = pd.read_csv(r\"C:\\Users\\rajve\\Downloads\\books_1.Best_Books_Ever.csv.zip\")"
   ]
  },
  {
   "cell_type": "code",
   "execution_count": 3,
   "id": "616bf1cc-251e-4f4c-ba8c-f6e1c81df977",
   "metadata": {},
   "outputs": [],
   "source": [
    "books_data = books_data.head(30000)"
   ]
  },
  {
   "cell_type": "code",
   "execution_count": 4,
   "id": "98d05d5f-3e0c-4ea9-8194-87e2b0fda2e3",
   "metadata": {},
   "outputs": [
    {
     "name": "stdout",
     "output_type": "stream",
     "text": [
      "<class 'pandas.core.frame.DataFrame'>\n",
      "RangeIndex: 30000 entries, 0 to 29999\n",
      "Data columns (total 25 columns):\n",
      " #   Column            Non-Null Count  Dtype  \n",
      "---  ------            --------------  -----  \n",
      " 0   bookId            30000 non-null  object \n",
      " 1   title             30000 non-null  object \n",
      " 2   series            13347 non-null  object \n",
      " 3   author            30000 non-null  object \n",
      " 4   rating            30000 non-null  float64\n",
      " 5   description       29415 non-null  object \n",
      " 6   language          28016 non-null  object \n",
      " 7   isbn              30000 non-null  object \n",
      " 8   genres            30000 non-null  object \n",
      " 9   characters        30000 non-null  object \n",
      " 10  bookFormat        29295 non-null  object \n",
      " 11  edition           3249 non-null   object \n",
      " 12  pages             28869 non-null  object \n",
      " 13  publisher         28101 non-null  object \n",
      " 14  publishDate       29619 non-null  object \n",
      " 15  firstPublishDate  17841 non-null  object \n",
      " 16  awards            30000 non-null  object \n",
      " 17  numRatings        30000 non-null  int64  \n",
      " 18  ratingsByStars    30000 non-null  object \n",
      " 19  likedPercent      29948 non-null  float64\n",
      " 20  setting           30000 non-null  object \n",
      " 21  coverImg          29756 non-null  object \n",
      " 22  bbeScore          30000 non-null  int64  \n",
      " 23  bbeVotes          30000 non-null  int64  \n",
      " 24  price             21990 non-null  object \n",
      "dtypes: float64(2), int64(3), object(20)\n",
      "memory usage: 5.7+ MB\n"
     ]
    }
   ],
   "source": [
    "books_data.info()"
   ]
  },
  {
   "cell_type": "code",
   "execution_count": 5,
   "id": "c4222810-327b-42d2-ab9a-732f8a11d18d",
   "metadata": {},
   "outputs": [
    {
     "data": {
      "text/plain": [
       "bookId                  0\n",
       "title                   0\n",
       "series              16653\n",
       "author                  0\n",
       "rating                  0\n",
       "description           585\n",
       "language             1984\n",
       "isbn                    0\n",
       "genres                  0\n",
       "characters              0\n",
       "bookFormat            705\n",
       "edition             26751\n",
       "pages                1131\n",
       "publisher            1899\n",
       "publishDate           381\n",
       "firstPublishDate    12159\n",
       "awards                  0\n",
       "numRatings              0\n",
       "ratingsByStars          0\n",
       "likedPercent           52\n",
       "setting                 0\n",
       "coverImg              244\n",
       "bbeScore                0\n",
       "bbeVotes                0\n",
       "price                8010\n",
       "dtype: int64"
      ]
     },
     "execution_count": 5,
     "metadata": {},
     "output_type": "execute_result"
    }
   ],
   "source": [
    "books_data.isnull().sum()"
   ]
  },
  {
   "cell_type": "code",
   "execution_count": 6,
   "id": "07e4329d-0a12-4c2d-a135-dc4324511f61",
   "metadata": {},
   "outputs": [
    {
     "data": {
      "text/plain": [
       "Index(['bookId', 'title', 'series', 'author', 'rating', 'description',\n",
       "       'language', 'isbn', 'genres', 'characters', 'bookFormat', 'edition',\n",
       "       'pages', 'publisher', 'publishDate', 'firstPublishDate', 'awards',\n",
       "       'numRatings', 'ratingsByStars', 'likedPercent', 'setting', 'coverImg',\n",
       "       'bbeScore', 'bbeVotes', 'price'],\n",
       "      dtype='object')"
      ]
     },
     "execution_count": 6,
     "metadata": {},
     "output_type": "execute_result"
    }
   ],
   "source": [
    "books_data.columns"
   ]
  },
  {
   "cell_type": "code",
   "execution_count": 7,
   "id": "89eefef4-3c51-4786-95f7-b4233a34e521",
   "metadata": {},
   "outputs": [],
   "source": [
    "books_data = books_data[['title','author','description','language','genres','pages','awards','likedPercent']]"
   ]
  },
  {
   "cell_type": "code",
   "execution_count": 8,
   "id": "7e445eb8-2299-4b7c-a183-b0d0fef11d78",
   "metadata": {},
   "outputs": [
    {
     "data": {
      "text/html": [
       "<div>\n",
       "<style scoped>\n",
       "    .dataframe tbody tr th:only-of-type {\n",
       "        vertical-align: middle;\n",
       "    }\n",
       "\n",
       "    .dataframe tbody tr th {\n",
       "        vertical-align: top;\n",
       "    }\n",
       "\n",
       "    .dataframe thead th {\n",
       "        text-align: right;\n",
       "    }\n",
       "</style>\n",
       "<table border=\"1\" class=\"dataframe\">\n",
       "  <thead>\n",
       "    <tr style=\"text-align: right;\">\n",
       "      <th></th>\n",
       "      <th>title</th>\n",
       "      <th>author</th>\n",
       "      <th>description</th>\n",
       "      <th>language</th>\n",
       "      <th>genres</th>\n",
       "      <th>pages</th>\n",
       "      <th>awards</th>\n",
       "      <th>likedPercent</th>\n",
       "    </tr>\n",
       "  </thead>\n",
       "  <tbody>\n",
       "    <tr>\n",
       "      <th>0</th>\n",
       "      <td>The Hunger Games</td>\n",
       "      <td>Suzanne Collins</td>\n",
       "      <td>WINNING MEANS FAME AND FORTUNE.LOSING MEANS CE...</td>\n",
       "      <td>English</td>\n",
       "      <td>['Young Adult', 'Fiction', 'Dystopia', 'Fantas...</td>\n",
       "      <td>374</td>\n",
       "      <td>['Locus Award Nominee for Best Young Adult Boo...</td>\n",
       "      <td>96.0</td>\n",
       "    </tr>\n",
       "    <tr>\n",
       "      <th>1</th>\n",
       "      <td>Harry Potter and the Order of the Phoenix</td>\n",
       "      <td>J.K. Rowling, Mary GrandPré (Illustrator)</td>\n",
       "      <td>There is a door at the end of a silent corrido...</td>\n",
       "      <td>English</td>\n",
       "      <td>['Fantasy', 'Young Adult', 'Fiction', 'Magic',...</td>\n",
       "      <td>870</td>\n",
       "      <td>['Bram Stoker Award for Works for Young Reader...</td>\n",
       "      <td>98.0</td>\n",
       "    </tr>\n",
       "    <tr>\n",
       "      <th>2</th>\n",
       "      <td>To Kill a Mockingbird</td>\n",
       "      <td>Harper Lee</td>\n",
       "      <td>The unforgettable novel of a childhood in a sl...</td>\n",
       "      <td>English</td>\n",
       "      <td>['Classics', 'Fiction', 'Historical Fiction', ...</td>\n",
       "      <td>324</td>\n",
       "      <td>['Pulitzer Prize for Fiction (1961)', 'Audie A...</td>\n",
       "      <td>95.0</td>\n",
       "    </tr>\n",
       "    <tr>\n",
       "      <th>3</th>\n",
       "      <td>Pride and Prejudice</td>\n",
       "      <td>Jane Austen, Anna Quindlen (Introduction)</td>\n",
       "      <td>Alternate cover edition of ISBN 9780679783268S...</td>\n",
       "      <td>English</td>\n",
       "      <td>['Classics', 'Fiction', 'Romance', 'Historical...</td>\n",
       "      <td>279</td>\n",
       "      <td>[]</td>\n",
       "      <td>94.0</td>\n",
       "    </tr>\n",
       "    <tr>\n",
       "      <th>4</th>\n",
       "      <td>Twilight</td>\n",
       "      <td>Stephenie Meyer</td>\n",
       "      <td>About three things I was absolutely positive.\\...</td>\n",
       "      <td>English</td>\n",
       "      <td>['Young Adult', 'Fantasy', 'Romance', 'Vampire...</td>\n",
       "      <td>501</td>\n",
       "      <td>['Georgia Peach Book Award (2007)', 'Buxtehude...</td>\n",
       "      <td>78.0</td>\n",
       "    </tr>\n",
       "  </tbody>\n",
       "</table>\n",
       "</div>"
      ],
      "text/plain": [
       "                                       title  \\\n",
       "0                           The Hunger Games   \n",
       "1  Harry Potter and the Order of the Phoenix   \n",
       "2                      To Kill a Mockingbird   \n",
       "3                        Pride and Prejudice   \n",
       "4                                   Twilight   \n",
       "\n",
       "                                      author  \\\n",
       "0                            Suzanne Collins   \n",
       "1  J.K. Rowling, Mary GrandPré (Illustrator)   \n",
       "2                                 Harper Lee   \n",
       "3  Jane Austen, Anna Quindlen (Introduction)   \n",
       "4                            Stephenie Meyer   \n",
       "\n",
       "                                         description language  \\\n",
       "0  WINNING MEANS FAME AND FORTUNE.LOSING MEANS CE...  English   \n",
       "1  There is a door at the end of a silent corrido...  English   \n",
       "2  The unforgettable novel of a childhood in a sl...  English   \n",
       "3  Alternate cover edition of ISBN 9780679783268S...  English   \n",
       "4  About three things I was absolutely positive.\\...  English   \n",
       "\n",
       "                                              genres pages  \\\n",
       "0  ['Young Adult', 'Fiction', 'Dystopia', 'Fantas...   374   \n",
       "1  ['Fantasy', 'Young Adult', 'Fiction', 'Magic',...   870   \n",
       "2  ['Classics', 'Fiction', 'Historical Fiction', ...   324   \n",
       "3  ['Classics', 'Fiction', 'Romance', 'Historical...   279   \n",
       "4  ['Young Adult', 'Fantasy', 'Romance', 'Vampire...   501   \n",
       "\n",
       "                                              awards  likedPercent  \n",
       "0  ['Locus Award Nominee for Best Young Adult Boo...          96.0  \n",
       "1  ['Bram Stoker Award for Works for Young Reader...          98.0  \n",
       "2  ['Pulitzer Prize for Fiction (1961)', 'Audie A...          95.0  \n",
       "3                                                 []          94.0  \n",
       "4  ['Georgia Peach Book Award (2007)', 'Buxtehude...          78.0  "
      ]
     },
     "execution_count": 8,
     "metadata": {},
     "output_type": "execute_result"
    }
   ],
   "source": [
    "books_data.head()"
   ]
  },
  {
   "cell_type": "code",
   "execution_count": 9,
   "id": "9fa3cf54-99ec-42ac-b3bf-0e14f623f18a",
   "metadata": {},
   "outputs": [],
   "source": [
    "books_data.dropna(inplace=True)\n",
    "books_data.reset_index(drop=True,inplace=True)"
   ]
  },
  {
   "cell_type": "code",
   "execution_count": 10,
   "id": "a0650c1c-21d8-41d3-8676-0728529015ff",
   "metadata": {},
   "outputs": [
    {
     "data": {
      "text/plain": [
       "title           0\n",
       "author          0\n",
       "description     0\n",
       "language        0\n",
       "genres          0\n",
       "pages           0\n",
       "awards          0\n",
       "likedPercent    0\n",
       "dtype: int64"
      ]
     },
     "execution_count": 10,
     "metadata": {},
     "output_type": "execute_result"
    }
   ],
   "source": [
    "books_data.isnull().sum()"
   ]
  },
  {
   "cell_type": "code",
   "execution_count": 11,
   "id": "cf66e7e6-6e46-4069-b86e-d35b44013fa8",
   "metadata": {},
   "outputs": [
    {
     "name": "stdout",
     "output_type": "stream",
     "text": [
      "<class 'pandas.core.frame.DataFrame'>\n",
      "RangeIndex: 26844 entries, 0 to 26843\n",
      "Data columns (total 8 columns):\n",
      " #   Column        Non-Null Count  Dtype  \n",
      "---  ------        --------------  -----  \n",
      " 0   title         26844 non-null  object \n",
      " 1   author        26844 non-null  object \n",
      " 2   description   26844 non-null  object \n",
      " 3   language      26844 non-null  object \n",
      " 4   genres        26844 non-null  object \n",
      " 5   pages         26844 non-null  object \n",
      " 6   awards        26844 non-null  object \n",
      " 7   likedPercent  26844 non-null  float64\n",
      "dtypes: float64(1), object(7)\n",
      "memory usage: 1.6+ MB\n"
     ]
    }
   ],
   "source": [
    "books_data.info()"
   ]
  },
  {
   "cell_type": "code",
   "execution_count": 12,
   "id": "6d7e689f-1f19-426d-95ba-29754817db45",
   "metadata": {},
   "outputs": [],
   "source": [
    "def set_author(authors):\n",
    "    temp = []\n",
    "    authors = authors.split(',')\n",
    "    count = 1\n",
    "    for author in authors:\n",
    "        temp.append(author.replace(' ',''))\n",
    "        if count==2:\n",
    "            break\n",
    "        count+=1\n",
    "    return temp"
   ]
  },
  {
   "cell_type": "code",
   "execution_count": 13,
   "id": "49ace250-89bd-49b1-b580-5ab75fc2baf5",
   "metadata": {},
   "outputs": [
    {
     "data": {
      "text/plain": [
       "['CharlotteBrontë', 'MichaelMason(Editor)']"
      ]
     },
     "execution_count": 13,
     "metadata": {},
     "output_type": "execute_result"
    }
   ],
   "source": [
    "set_author('Charlotte Brontë, Michael Mason (Editor), Barnett Freedman (Illustrator)')"
   ]
  },
  {
   "cell_type": "code",
   "execution_count": 14,
   "id": "bbdd5d13-038f-434e-89d1-5d06c3c167c0",
   "metadata": {},
   "outputs": [
    {
     "data": {
      "text/plain": [
       "'Charlotte Brontë, Michael Mason (Editor), Barnett Freedman (Illustrator)'"
      ]
     },
     "execution_count": 14,
     "metadata": {},
     "output_type": "execute_result"
    }
   ],
   "source": [
    "books_data['author'][18]"
   ]
  },
  {
   "cell_type": "code",
   "execution_count": 15,
   "id": "db379824-9d9e-4ad4-93bd-1ec829b49b48",
   "metadata": {},
   "outputs": [],
   "source": [
    "books_data['author'] = books_data['author'].apply(set_author)"
   ]
  },
  {
   "cell_type": "code",
   "execution_count": 16,
   "id": "8b45c3a6-2ce4-4d84-bb56-d54beeb33020",
   "metadata": {},
   "outputs": [],
   "source": [
    "def set_description(description):\n",
    "    description = description.replace('.','')\n",
    "    description = description.replace(',','')\n",
    "    description = description.replace('--','')\n",
    "    return description.lower().split()"
   ]
  },
  {
   "cell_type": "code",
   "execution_count": 17,
   "id": "18edd110-3f13-4d45-af4c-85425c5b07c6",
   "metadata": {},
   "outputs": [],
   "source": [
    "books_data['description'] = books_data['description'].apply(set_description)"
   ]
  },
  {
   "cell_type": "code",
   "execution_count": 18,
   "id": "d4d4ee98-3c88-4ca9-9230-3b5785cdf622",
   "metadata": {},
   "outputs": [
    {
     "data": {
      "text/plain": [
       "['winning',\n",
       " 'means',\n",
       " 'fame',\n",
       " 'and',\n",
       " 'fortunelosing',\n",
       " 'means',\n",
       " 'certain',\n",
       " 'deaththe',\n",
       " 'hunger',\n",
       " 'games',\n",
       " 'have',\n",
       " 'begun',\n",
       " 'in',\n",
       " 'the',\n",
       " 'ruins',\n",
       " 'of',\n",
       " 'a',\n",
       " 'place',\n",
       " 'once',\n",
       " 'known',\n",
       " 'as',\n",
       " 'north',\n",
       " 'america',\n",
       " 'lies',\n",
       " 'the',\n",
       " 'nation',\n",
       " 'of',\n",
       " 'panem',\n",
       " 'a',\n",
       " 'shining',\n",
       " 'capitol',\n",
       " 'surrounded',\n",
       " 'by',\n",
       " 'twelve',\n",
       " 'outlying',\n",
       " 'districts',\n",
       " 'the',\n",
       " 'capitol',\n",
       " 'is',\n",
       " 'harsh',\n",
       " 'and',\n",
       " 'cruel',\n",
       " 'and',\n",
       " 'keeps',\n",
       " 'the',\n",
       " 'districts',\n",
       " 'in',\n",
       " 'line',\n",
       " 'by',\n",
       " 'forcing',\n",
       " 'them',\n",
       " 'all',\n",
       " 'to',\n",
       " 'send',\n",
       " 'one',\n",
       " 'boy',\n",
       " 'and',\n",
       " 'once',\n",
       " 'girl',\n",
       " 'between',\n",
       " 'the',\n",
       " 'ages',\n",
       " 'of',\n",
       " 'twelve',\n",
       " 'and',\n",
       " 'eighteen',\n",
       " 'to',\n",
       " 'participate',\n",
       " 'in',\n",
       " 'the',\n",
       " 'annual',\n",
       " 'hunger',\n",
       " 'games',\n",
       " 'a',\n",
       " 'fight',\n",
       " 'to',\n",
       " 'the',\n",
       " 'death',\n",
       " 'on',\n",
       " 'live',\n",
       " 'tvsixteen-year-old',\n",
       " 'katniss',\n",
       " 'everdeen',\n",
       " 'regards',\n",
       " 'it',\n",
       " 'as',\n",
       " 'a',\n",
       " 'death',\n",
       " 'sentence',\n",
       " 'when',\n",
       " 'she',\n",
       " 'steps',\n",
       " 'forward',\n",
       " 'to',\n",
       " 'take',\n",
       " 'her',\n",
       " \"sister's\",\n",
       " 'place',\n",
       " 'in',\n",
       " 'the',\n",
       " 'games',\n",
       " 'but',\n",
       " 'katniss',\n",
       " 'has',\n",
       " 'been',\n",
       " 'close',\n",
       " 'to',\n",
       " 'dead',\n",
       " 'before—and',\n",
       " 'survival',\n",
       " 'for',\n",
       " 'her',\n",
       " 'is',\n",
       " 'second',\n",
       " 'nature',\n",
       " 'without',\n",
       " 'really',\n",
       " 'meaning',\n",
       " 'to',\n",
       " 'she',\n",
       " 'becomes',\n",
       " 'a',\n",
       " 'contender',\n",
       " 'but',\n",
       " 'if',\n",
       " 'she',\n",
       " 'is',\n",
       " 'to',\n",
       " 'win',\n",
       " 'she',\n",
       " 'will',\n",
       " 'have',\n",
       " 'to',\n",
       " 'start',\n",
       " 'making',\n",
       " 'choices',\n",
       " 'that',\n",
       " 'weight',\n",
       " 'survival',\n",
       " 'against',\n",
       " 'humanity',\n",
       " 'and',\n",
       " 'life',\n",
       " 'against',\n",
       " 'love']"
      ]
     },
     "execution_count": 18,
     "metadata": {},
     "output_type": "execute_result"
    }
   ],
   "source": [
    "books_data['description'][0]"
   ]
  },
  {
   "cell_type": "code",
   "execution_count": 19,
   "id": "cfd482d7-5f0e-4f91-9751-a440fb235d1c",
   "metadata": {},
   "outputs": [],
   "source": [
    "def set_language(lang):\n",
    "    lang = lang.replace(' ','')\n",
    "    if ';' in lang:\n",
    "        if ',' in lang:\n",
    "            temp = lang.split(',')\n",
    "            return [temp[0]]+temp[1].split(';')\n",
    "        else:\n",
    "            return lang.split(';')\n",
    "    else:\n",
    "        return [lang]"
   ]
  },
  {
   "cell_type": "code",
   "execution_count": 20,
   "id": "9b0aa1e8-c472-46a3-8269-0fc402ed45d7",
   "metadata": {},
   "outputs": [
    {
     "data": {
      "text/plain": [
       "['Bokmål', 'Norwegian;NorwegianBokmål']"
      ]
     },
     "execution_count": 20,
     "metadata": {},
     "output_type": "execute_result"
    }
   ],
   "source": [
    "['Bokmål','Norwegian;NorwegianBokmål']"
   ]
  },
  {
   "cell_type": "code",
   "execution_count": 21,
   "id": "769c92a6-60a4-4d25-b721-4b9f0f762754",
   "metadata": {},
   "outputs": [
    {
     "name": "stdout",
     "output_type": "stream",
     "text": [
      "['Filipino', 'Pilipino']\n",
      "['Filipino', 'Pilipino']\n",
      "['Catalan', 'Valencian']\n",
      "['Filipino', 'Pilipino']\n",
      "['Filipino', 'Pilipino']\n",
      "['Catalan', 'Valencian']\n",
      "['Bokmål', 'Norwegian', 'NorwegianBokmål']\n",
      "['Filipino', 'Pilipino']\n",
      "['Filipino', 'Pilipino']\n",
      "['Catalan', 'Valencian']\n",
      "['Filipino', 'Pilipino']\n",
      "['Filipino', 'Pilipino']\n",
      "['Filipino', 'Pilipino']\n",
      "['Catalan', 'Valencian']\n",
      "['Panjabi', 'Punjabi']\n",
      "['Catalan', 'Valencian']\n",
      "['Filipino', 'Pilipino']\n",
      "['Bokmål', 'Norwegian', 'NorwegianBokmål']\n",
      "['Filipino', 'Pilipino']\n"
     ]
    }
   ],
   "source": [
    "for i in books_data['language'].apply(set_language):\n",
    "    if len(i)>1:\n",
    "        print(i)"
   ]
  },
  {
   "cell_type": "code",
   "execution_count": 22,
   "id": "f839234b-2edf-41da-940b-fe7fdbd3ef73",
   "metadata": {},
   "outputs": [],
   "source": [
    "books_data['language'] = books_data['language'].apply(set_language)"
   ]
  },
  {
   "cell_type": "code",
   "execution_count": 23,
   "id": "32eead07-d686-4bbe-a24a-6f8abae7601f",
   "metadata": {},
   "outputs": [],
   "source": [
    "def set_genres(genres):\n",
    "    genres = eval(genres)\n",
    "    temp = []\n",
    "    for genre in genres:\n",
    "        temp.append(genre.replace(' ',''))\n",
    "    return temp"
   ]
  },
  {
   "cell_type": "code",
   "execution_count": 24,
   "id": "7fcf08b2-0d7d-46a5-af35-8d6e7f9b2609",
   "metadata": {},
   "outputs": [],
   "source": [
    "books_data['genres'] = books_data['genres'].apply(set_genres)"
   ]
  },
  {
   "cell_type": "code",
   "execution_count": 25,
   "id": "e00c6bde-4b7e-4984-8663-b4d04f33e414",
   "metadata": {},
   "outputs": [],
   "source": [
    "def set_awards(awards):\n",
    "    awards = eval(awards)\n",
    "    temp = []\n",
    "    for award in awards:\n",
    "        temp.append(award.replace(' ',''))\n",
    "    return temp"
   ]
  },
  {
   "cell_type": "code",
   "execution_count": 26,
   "id": "82b52da8-84e7-4053-bdcf-568a29facf4b",
   "metadata": {},
   "outputs": [],
   "source": [
    "books_data['awards'] = books_data['awards'].apply(set_awards)"
   ]
  },
  {
   "cell_type": "code",
   "execution_count": 27,
   "id": "d6efa32f-5172-4af5-840c-d6276493b21a",
   "metadata": {},
   "outputs": [],
   "source": [
    "def set_pages(pages):\n",
    "    try:\n",
    "        return [eval(pages)]\n",
    "    except:\n",
    "        return [1]"
   ]
  },
  {
   "cell_type": "code",
   "execution_count": 28,
   "id": "1f4d557d-5ebc-495e-bf25-2a36f9dbaa2f",
   "metadata": {},
   "outputs": [],
   "source": [
    "books_data['pages'] = books_data['pages'].apply(set_pages)"
   ]
  },
  {
   "cell_type": "code",
   "execution_count": 29,
   "id": "4a51b5b9-5f25-4d5e-b093-efe7bac00ef0",
   "metadata": {},
   "outputs": [],
   "source": [
    "books_data['likedPercent'] = books_data['likedPercent'].apply(lambda liked : [liked])"
   ]
  },
  {
   "cell_type": "code",
   "execution_count": 30,
   "id": "42d5c22a-e1a0-4796-8c32-11aed5dca317",
   "metadata": {},
   "outputs": [
    {
     "name": "stdout",
     "output_type": "stream",
     "text": [
      "<class 'pandas.core.frame.DataFrame'>\n",
      "RangeIndex: 26844 entries, 0 to 26843\n",
      "Data columns (total 8 columns):\n",
      " #   Column        Non-Null Count  Dtype \n",
      "---  ------        --------------  ----- \n",
      " 0   title         26844 non-null  object\n",
      " 1   author        26844 non-null  object\n",
      " 2   description   26844 non-null  object\n",
      " 3   language      26844 non-null  object\n",
      " 4   genres        26844 non-null  object\n",
      " 5   pages         26844 non-null  object\n",
      " 6   awards        26844 non-null  object\n",
      " 7   likedPercent  26844 non-null  object\n",
      "dtypes: object(8)\n",
      "memory usage: 1.6+ MB\n"
     ]
    }
   ],
   "source": [
    "books_data.info()"
   ]
  },
  {
   "cell_type": "code",
   "execution_count": 31,
   "id": "5a4afde8-7adf-4b34-b00a-902d059462cc",
   "metadata": {},
   "outputs": [
    {
     "data": {
      "text/html": [
       "<div>\n",
       "<style scoped>\n",
       "    .dataframe tbody tr th:only-of-type {\n",
       "        vertical-align: middle;\n",
       "    }\n",
       "\n",
       "    .dataframe tbody tr th {\n",
       "        vertical-align: top;\n",
       "    }\n",
       "\n",
       "    .dataframe thead th {\n",
       "        text-align: right;\n",
       "    }\n",
       "</style>\n",
       "<table border=\"1\" class=\"dataframe\">\n",
       "  <thead>\n",
       "    <tr style=\"text-align: right;\">\n",
       "      <th></th>\n",
       "      <th>title</th>\n",
       "      <th>author</th>\n",
       "      <th>description</th>\n",
       "      <th>language</th>\n",
       "      <th>genres</th>\n",
       "      <th>pages</th>\n",
       "      <th>awards</th>\n",
       "      <th>likedPercent</th>\n",
       "    </tr>\n",
       "  </thead>\n",
       "  <tbody>\n",
       "    <tr>\n",
       "      <th>0</th>\n",
       "      <td>The Hunger Games</td>\n",
       "      <td>[SuzanneCollins]</td>\n",
       "      <td>[winning, means, fame, and, fortunelosing, mea...</td>\n",
       "      <td>[English]</td>\n",
       "      <td>[YoungAdult, Fiction, Dystopia, Fantasy, Scien...</td>\n",
       "      <td>[374]</td>\n",
       "      <td>[LocusAwardNomineeforBestYoungAdultBook(2009),...</td>\n",
       "      <td>[96.0]</td>\n",
       "    </tr>\n",
       "    <tr>\n",
       "      <th>1</th>\n",
       "      <td>Harry Potter and the Order of the Phoenix</td>\n",
       "      <td>[J.K.Rowling, MaryGrandPré(Illustrator)]</td>\n",
       "      <td>[there, is, a, door, at, the, end, of, a, sile...</td>\n",
       "      <td>[English]</td>\n",
       "      <td>[Fantasy, YoungAdult, Fiction, Magic, Children...</td>\n",
       "      <td>[870]</td>\n",
       "      <td>[BramStokerAwardforWorksforYoungReaders(2003),...</td>\n",
       "      <td>[98.0]</td>\n",
       "    </tr>\n",
       "    <tr>\n",
       "      <th>2</th>\n",
       "      <td>To Kill a Mockingbird</td>\n",
       "      <td>[HarperLee]</td>\n",
       "      <td>[the, unforgettable, novel, of, a, childhood, ...</td>\n",
       "      <td>[English]</td>\n",
       "      <td>[Classics, Fiction, HistoricalFiction, School,...</td>\n",
       "      <td>[324]</td>\n",
       "      <td>[PulitzerPrizeforFiction(1961), AudieAwardforC...</td>\n",
       "      <td>[95.0]</td>\n",
       "    </tr>\n",
       "    <tr>\n",
       "      <th>3</th>\n",
       "      <td>Pride and Prejudice</td>\n",
       "      <td>[JaneAusten, AnnaQuindlen(Introduction)]</td>\n",
       "      <td>[alternate, cover, edition, of, isbn, 97806797...</td>\n",
       "      <td>[English]</td>\n",
       "      <td>[Classics, Fiction, Romance, HistoricalFiction...</td>\n",
       "      <td>[279]</td>\n",
       "      <td>[]</td>\n",
       "      <td>[94.0]</td>\n",
       "    </tr>\n",
       "    <tr>\n",
       "      <th>4</th>\n",
       "      <td>Twilight</td>\n",
       "      <td>[StephenieMeyer]</td>\n",
       "      <td>[about, three, things, i, was, absolutely, pos...</td>\n",
       "      <td>[English]</td>\n",
       "      <td>[YoungAdult, Fantasy, Romance, Vampires, Ficti...</td>\n",
       "      <td>[501]</td>\n",
       "      <td>[GeorgiaPeachBookAward(2007), BuxtehuderBulle(...</td>\n",
       "      <td>[78.0]</td>\n",
       "    </tr>\n",
       "  </tbody>\n",
       "</table>\n",
       "</div>"
      ],
      "text/plain": [
       "                                       title  \\\n",
       "0                           The Hunger Games   \n",
       "1  Harry Potter and the Order of the Phoenix   \n",
       "2                      To Kill a Mockingbird   \n",
       "3                        Pride and Prejudice   \n",
       "4                                   Twilight   \n",
       "\n",
       "                                     author  \\\n",
       "0                          [SuzanneCollins]   \n",
       "1  [J.K.Rowling, MaryGrandPré(Illustrator)]   \n",
       "2                               [HarperLee]   \n",
       "3  [JaneAusten, AnnaQuindlen(Introduction)]   \n",
       "4                          [StephenieMeyer]   \n",
       "\n",
       "                                         description   language  \\\n",
       "0  [winning, means, fame, and, fortunelosing, mea...  [English]   \n",
       "1  [there, is, a, door, at, the, end, of, a, sile...  [English]   \n",
       "2  [the, unforgettable, novel, of, a, childhood, ...  [English]   \n",
       "3  [alternate, cover, edition, of, isbn, 97806797...  [English]   \n",
       "4  [about, three, things, i, was, absolutely, pos...  [English]   \n",
       "\n",
       "                                              genres  pages  \\\n",
       "0  [YoungAdult, Fiction, Dystopia, Fantasy, Scien...  [374]   \n",
       "1  [Fantasy, YoungAdult, Fiction, Magic, Children...  [870]   \n",
       "2  [Classics, Fiction, HistoricalFiction, School,...  [324]   \n",
       "3  [Classics, Fiction, Romance, HistoricalFiction...  [279]   \n",
       "4  [YoungAdult, Fantasy, Romance, Vampires, Ficti...  [501]   \n",
       "\n",
       "                                              awards likedPercent  \n",
       "0  [LocusAwardNomineeforBestYoungAdultBook(2009),...       [96.0]  \n",
       "1  [BramStokerAwardforWorksforYoungReaders(2003),...       [98.0]  \n",
       "2  [PulitzerPrizeforFiction(1961), AudieAwardforC...       [95.0]  \n",
       "3                                                 []       [94.0]  \n",
       "4  [GeorgiaPeachBookAward(2007), BuxtehuderBulle(...       [78.0]  "
      ]
     },
     "execution_count": 31,
     "metadata": {},
     "output_type": "execute_result"
    }
   ],
   "source": [
    "books_data.head()"
   ]
  },
  {
   "cell_type": "code",
   "execution_count": 32,
   "id": "57a3ceb1-77e6-41bb-b082-253fcc965000",
   "metadata": {},
   "outputs": [],
   "source": [
    "books_data['Tag'] = books_data['author'] + books_data['description'] + books_data['language'] + books_data['genres'] + books_data['pages'] + books_data['awards'] + books_data['likedPercent']"
   ]
  },
  {
   "cell_type": "code",
   "execution_count": 33,
   "id": "5f2e4b36-3c40-4002-8156-cfd499834c57",
   "metadata": {},
   "outputs": [],
   "source": [
    "books = books_data[['title','Tag']]"
   ]
  },
  {
   "cell_type": "code",
   "execution_count": 34,
   "id": "26ddf373-752f-486e-8259-8fc08efeb184",
   "metadata": {},
   "outputs": [
    {
     "data": {
      "text/html": [
       "<div>\n",
       "<style scoped>\n",
       "    .dataframe tbody tr th:only-of-type {\n",
       "        vertical-align: middle;\n",
       "    }\n",
       "\n",
       "    .dataframe tbody tr th {\n",
       "        vertical-align: top;\n",
       "    }\n",
       "\n",
       "    .dataframe thead th {\n",
       "        text-align: right;\n",
       "    }\n",
       "</style>\n",
       "<table border=\"1\" class=\"dataframe\">\n",
       "  <thead>\n",
       "    <tr style=\"text-align: right;\">\n",
       "      <th></th>\n",
       "      <th>title</th>\n",
       "      <th>Tag</th>\n",
       "    </tr>\n",
       "  </thead>\n",
       "  <tbody>\n",
       "    <tr>\n",
       "      <th>0</th>\n",
       "      <td>The Hunger Games</td>\n",
       "      <td>[SuzanneCollins, winning, means, fame, and, fo...</td>\n",
       "    </tr>\n",
       "    <tr>\n",
       "      <th>1</th>\n",
       "      <td>Harry Potter and the Order of the Phoenix</td>\n",
       "      <td>[J.K.Rowling, MaryGrandPré(Illustrator), there...</td>\n",
       "    </tr>\n",
       "    <tr>\n",
       "      <th>2</th>\n",
       "      <td>To Kill a Mockingbird</td>\n",
       "      <td>[HarperLee, the, unforgettable, novel, of, a, ...</td>\n",
       "    </tr>\n",
       "    <tr>\n",
       "      <th>3</th>\n",
       "      <td>Pride and Prejudice</td>\n",
       "      <td>[JaneAusten, AnnaQuindlen(Introduction), alter...</td>\n",
       "    </tr>\n",
       "    <tr>\n",
       "      <th>4</th>\n",
       "      <td>Twilight</td>\n",
       "      <td>[StephenieMeyer, about, three, things, i, was,...</td>\n",
       "    </tr>\n",
       "  </tbody>\n",
       "</table>\n",
       "</div>"
      ],
      "text/plain": [
       "                                       title  \\\n",
       "0                           The Hunger Games   \n",
       "1  Harry Potter and the Order of the Phoenix   \n",
       "2                      To Kill a Mockingbird   \n",
       "3                        Pride and Prejudice   \n",
       "4                                   Twilight   \n",
       "\n",
       "                                                 Tag  \n",
       "0  [SuzanneCollins, winning, means, fame, and, fo...  \n",
       "1  [J.K.Rowling, MaryGrandPré(Illustrator), there...  \n",
       "2  [HarperLee, the, unforgettable, novel, of, a, ...  \n",
       "3  [JaneAusten, AnnaQuindlen(Introduction), alter...  \n",
       "4  [StephenieMeyer, about, three, things, i, was,...  "
      ]
     },
     "execution_count": 34,
     "metadata": {},
     "output_type": "execute_result"
    }
   ],
   "source": [
    "books.head()"
   ]
  },
  {
   "cell_type": "code",
   "execution_count": 35,
   "id": "c550eedf-1c50-4fcf-a101-3ec63b45d3d9",
   "metadata": {},
   "outputs": [],
   "source": [
    "from nltk.stem import PorterStemmer\n",
    "\n",
    "porter_stemmer = PorterStemmer()"
   ]
  },
  {
   "cell_type": "code",
   "execution_count": 36,
   "id": "85ed42f2-b3ef-43cd-a9e7-70cf1ab784ff",
   "metadata": {},
   "outputs": [
    {
     "data": {
      "text/plain": [
       "'play'"
      ]
     },
     "execution_count": 36,
     "metadata": {},
     "output_type": "execute_result"
    }
   ],
   "source": [
    "porter_stemmer.stem('PLAY')"
   ]
  },
  {
   "cell_type": "code",
   "execution_count": 37,
   "id": "3b016ddd-1e31-4ac1-b761-2ad49f908816",
   "metadata": {},
   "outputs": [],
   "source": [
    "def stem_words(tag):\n",
    "    temp = []\n",
    "    for word in tag:\n",
    "        word = porter_stemmer.stem(str(word))\n",
    "        temp.append(word)\n",
    "    return temp"
   ]
  },
  {
   "cell_type": "code",
   "execution_count": 38,
   "id": "e58016b2-c67e-4c1d-9585-70804b2da291",
   "metadata": {},
   "outputs": [
    {
     "name": "stderr",
     "output_type": "stream",
     "text": [
      "C:\\Users\\rajve\\AppData\\Local\\Temp\\ipykernel_18920\\4016483297.py:1: SettingWithCopyWarning: \n",
      "A value is trying to be set on a copy of a slice from a DataFrame.\n",
      "Try using .loc[row_indexer,col_indexer] = value instead\n",
      "\n",
      "See the caveats in the documentation: https://pandas.pydata.org/pandas-docs/stable/user_guide/indexing.html#returning-a-view-versus-a-copy\n",
      "  books['Tag'] = books['Tag'].apply(stem_words)\n"
     ]
    }
   ],
   "source": [
    "books['Tag'] = books['Tag'].apply(stem_words)"
   ]
  },
  {
   "cell_type": "code",
   "execution_count": 39,
   "id": "41712557-7abd-4c6c-a39b-3d4d6f7b4712",
   "metadata": {},
   "outputs": [
    {
     "name": "stderr",
     "output_type": "stream",
     "text": [
      "C:\\Users\\rajve\\AppData\\Local\\Temp\\ipykernel_18920\\754635690.py:1: SettingWithCopyWarning: \n",
      "A value is trying to be set on a copy of a slice from a DataFrame.\n",
      "Try using .loc[row_indexer,col_indexer] = value instead\n",
      "\n",
      "See the caveats in the documentation: https://pandas.pydata.org/pandas-docs/stable/user_guide/indexing.html#returning-a-view-versus-a-copy\n",
      "  books['Tag'] = books['Tag'].apply(lambda tag: ' '.join(tag))\n"
     ]
    }
   ],
   "source": [
    "books['Tag'] = books['Tag'].apply(lambda tag: ' '.join(tag))"
   ]
  },
  {
   "cell_type": "code",
   "execution_count": 40,
   "id": "53e7c226-b5dd-4ae6-8c35-172e949dc287",
   "metadata": {},
   "outputs": [
    {
     "data": {
      "text/html": [
       "<div>\n",
       "<style scoped>\n",
       "    .dataframe tbody tr th:only-of-type {\n",
       "        vertical-align: middle;\n",
       "    }\n",
       "\n",
       "    .dataframe tbody tr th {\n",
       "        vertical-align: top;\n",
       "    }\n",
       "\n",
       "    .dataframe thead th {\n",
       "        text-align: right;\n",
       "    }\n",
       "</style>\n",
       "<table border=\"1\" class=\"dataframe\">\n",
       "  <thead>\n",
       "    <tr style=\"text-align: right;\">\n",
       "      <th></th>\n",
       "      <th>title</th>\n",
       "      <th>Tag</th>\n",
       "    </tr>\n",
       "  </thead>\n",
       "  <tbody>\n",
       "    <tr>\n",
       "      <th>0</th>\n",
       "      <td>The Hunger Games</td>\n",
       "      <td>suzannecollin win mean fame and fortunelos mea...</td>\n",
       "    </tr>\n",
       "    <tr>\n",
       "      <th>1</th>\n",
       "      <td>Harry Potter and the Order of the Phoenix</td>\n",
       "      <td>j.k.rowl marygrandpré(illustrator) there is a ...</td>\n",
       "    </tr>\n",
       "    <tr>\n",
       "      <th>2</th>\n",
       "      <td>To Kill a Mockingbird</td>\n",
       "      <td>harperle the unforgett novel of a childhood in...</td>\n",
       "    </tr>\n",
       "    <tr>\n",
       "      <th>3</th>\n",
       "      <td>Pride and Prejudice</td>\n",
       "      <td>janeausten annaquindlen(introduction) altern c...</td>\n",
       "    </tr>\n",
       "    <tr>\n",
       "      <th>4</th>\n",
       "      <td>Twilight</td>\n",
       "      <td>stepheniemey about three thing i wa absolut po...</td>\n",
       "    </tr>\n",
       "  </tbody>\n",
       "</table>\n",
       "</div>"
      ],
      "text/plain": [
       "                                       title  \\\n",
       "0                           The Hunger Games   \n",
       "1  Harry Potter and the Order of the Phoenix   \n",
       "2                      To Kill a Mockingbird   \n",
       "3                        Pride and Prejudice   \n",
       "4                                   Twilight   \n",
       "\n",
       "                                                 Tag  \n",
       "0  suzannecollin win mean fame and fortunelos mea...  \n",
       "1  j.k.rowl marygrandpré(illustrator) there is a ...  \n",
       "2  harperle the unforgett novel of a childhood in...  \n",
       "3  janeausten annaquindlen(introduction) altern c...  \n",
       "4  stepheniemey about three thing i wa absolut po...  "
      ]
     },
     "execution_count": 40,
     "metadata": {},
     "output_type": "execute_result"
    }
   ],
   "source": [
    "books.head()"
   ]
  },
  {
   "cell_type": "code",
   "execution_count": 41,
   "id": "1f323c27-8cf7-4cf3-adb3-4ee4e8ab7cdb",
   "metadata": {},
   "outputs": [],
   "source": [
    "from sklearn.feature_extraction.text import TfidfVectorizer\n",
    "\n",
    "tfidf = TfidfVectorizer(max_features=5000,stop_words='english')"
   ]
  },
  {
   "cell_type": "code",
   "execution_count": 42,
   "id": "fd48a443-35aa-4bf9-958a-3dbffa5c73ac",
   "metadata": {},
   "outputs": [
    {
     "data": {
      "text/html": [
       "<style>#sk-container-id-1 {color: black;background-color: white;}#sk-container-id-1 pre{padding: 0;}#sk-container-id-1 div.sk-toggleable {background-color: white;}#sk-container-id-1 label.sk-toggleable__label {cursor: pointer;display: block;width: 100%;margin-bottom: 0;padding: 0.3em;box-sizing: border-box;text-align: center;}#sk-container-id-1 label.sk-toggleable__label-arrow:before {content: \"▸\";float: left;margin-right: 0.25em;color: #696969;}#sk-container-id-1 label.sk-toggleable__label-arrow:hover:before {color: black;}#sk-container-id-1 div.sk-estimator:hover label.sk-toggleable__label-arrow:before {color: black;}#sk-container-id-1 div.sk-toggleable__content {max-height: 0;max-width: 0;overflow: hidden;text-align: left;background-color: #f0f8ff;}#sk-container-id-1 div.sk-toggleable__content pre {margin: 0.2em;color: black;border-radius: 0.25em;background-color: #f0f8ff;}#sk-container-id-1 input.sk-toggleable__control:checked~div.sk-toggleable__content {max-height: 200px;max-width: 100%;overflow: auto;}#sk-container-id-1 input.sk-toggleable__control:checked~label.sk-toggleable__label-arrow:before {content: \"▾\";}#sk-container-id-1 div.sk-estimator input.sk-toggleable__control:checked~label.sk-toggleable__label {background-color: #d4ebff;}#sk-container-id-1 div.sk-label input.sk-toggleable__control:checked~label.sk-toggleable__label {background-color: #d4ebff;}#sk-container-id-1 input.sk-hidden--visually {border: 0;clip: rect(1px 1px 1px 1px);clip: rect(1px, 1px, 1px, 1px);height: 1px;margin: -1px;overflow: hidden;padding: 0;position: absolute;width: 1px;}#sk-container-id-1 div.sk-estimator {font-family: monospace;background-color: #f0f8ff;border: 1px dotted black;border-radius: 0.25em;box-sizing: border-box;margin-bottom: 0.5em;}#sk-container-id-1 div.sk-estimator:hover {background-color: #d4ebff;}#sk-container-id-1 div.sk-parallel-item::after {content: \"\";width: 100%;border-bottom: 1px solid gray;flex-grow: 1;}#sk-container-id-1 div.sk-label:hover label.sk-toggleable__label {background-color: #d4ebff;}#sk-container-id-1 div.sk-serial::before {content: \"\";position: absolute;border-left: 1px solid gray;box-sizing: border-box;top: 0;bottom: 0;left: 50%;z-index: 0;}#sk-container-id-1 div.sk-serial {display: flex;flex-direction: column;align-items: center;background-color: white;padding-right: 0.2em;padding-left: 0.2em;position: relative;}#sk-container-id-1 div.sk-item {position: relative;z-index: 1;}#sk-container-id-1 div.sk-parallel {display: flex;align-items: stretch;justify-content: center;background-color: white;position: relative;}#sk-container-id-1 div.sk-item::before, #sk-container-id-1 div.sk-parallel-item::before {content: \"\";position: absolute;border-left: 1px solid gray;box-sizing: border-box;top: 0;bottom: 0;left: 50%;z-index: -1;}#sk-container-id-1 div.sk-parallel-item {display: flex;flex-direction: column;z-index: 1;position: relative;background-color: white;}#sk-container-id-1 div.sk-parallel-item:first-child::after {align-self: flex-end;width: 50%;}#sk-container-id-1 div.sk-parallel-item:last-child::after {align-self: flex-start;width: 50%;}#sk-container-id-1 div.sk-parallel-item:only-child::after {width: 0;}#sk-container-id-1 div.sk-dashed-wrapped {border: 1px dashed gray;margin: 0 0.4em 0.5em 0.4em;box-sizing: border-box;padding-bottom: 0.4em;background-color: white;}#sk-container-id-1 div.sk-label label {font-family: monospace;font-weight: bold;display: inline-block;line-height: 1.2em;}#sk-container-id-1 div.sk-label-container {text-align: center;}#sk-container-id-1 div.sk-container {/* jupyter's `normalize.less` sets `[hidden] { display: none; }` but bootstrap.min.css set `[hidden] { display: none !important; }` so we also need the `!important` here to be able to override the default hidden behavior on the sphinx rendered scikit-learn.org. See: https://github.com/scikit-learn/scikit-learn/issues/21755 */display: inline-block !important;position: relative;}#sk-container-id-1 div.sk-text-repr-fallback {display: none;}</style><div id=\"sk-container-id-1\" class=\"sk-top-container\"><div class=\"sk-text-repr-fallback\"><pre>TfidfVectorizer(max_features=5000, stop_words=&#x27;english&#x27;)</pre><b>In a Jupyter environment, please rerun this cell to show the HTML representation or trust the notebook. <br />On GitHub, the HTML representation is unable to render, please try loading this page with nbviewer.org.</b></div><div class=\"sk-container\" hidden><div class=\"sk-item\"><div class=\"sk-estimator sk-toggleable\"><input class=\"sk-toggleable__control sk-hidden--visually\" id=\"sk-estimator-id-1\" type=\"checkbox\" checked><label for=\"sk-estimator-id-1\" class=\"sk-toggleable__label sk-toggleable__label-arrow\">TfidfVectorizer</label><div class=\"sk-toggleable__content\"><pre>TfidfVectorizer(max_features=5000, stop_words=&#x27;english&#x27;)</pre></div></div></div></div></div>"
      ],
      "text/plain": [
       "TfidfVectorizer(max_features=5000, stop_words='english')"
      ]
     },
     "execution_count": 42,
     "metadata": {},
     "output_type": "execute_result"
    }
   ],
   "source": [
    "tfidf.fit(books['Tag'])"
   ]
  },
  {
   "cell_type": "code",
   "execution_count": 43,
   "id": "c5809027-d244-4c1c-be22-14230c27ab0c",
   "metadata": {},
   "outputs": [],
   "source": [
    "books_vectors = tfidf.transform(books['Tag']).toarray()"
   ]
  },
  {
   "cell_type": "code",
   "execution_count": 44,
   "id": "8522a2ba-9197-46be-b10f-31446a537ab8",
   "metadata": {},
   "outputs": [
    {
     "data": {
      "text/plain": [
       "(26844, 5000)"
      ]
     },
     "execution_count": 44,
     "metadata": {},
     "output_type": "execute_result"
    }
   ],
   "source": [
    "books_vectors.shape"
   ]
  },
  {
   "cell_type": "code",
   "execution_count": 45,
   "id": "52c7fd68-897c-4df2-8656-08c8a91a3a58",
   "metadata": {},
   "outputs": [],
   "source": [
    "from sklearn.metrics.pairwise import cosine_similarity\n",
    "\n",
    "similar_books = cosine_similarity(books_vectors,dense_output=False)"
   ]
  },
  {
   "cell_type": "code",
   "execution_count": 46,
   "id": "9f808ec7-96a0-4193-8d00-858caffee390",
   "metadata": {},
   "outputs": [
    {
     "data": {
      "text/plain": [
       "array([1.        , 0.00927568, 0.02895126, ..., 0.00387484, 0.00623676,\n",
       "       0.00788183])"
      ]
     },
     "execution_count": 46,
     "metadata": {},
     "output_type": "execute_result"
    }
   ],
   "source": [
    "similar_books[0]"
   ]
  },
  {
   "cell_type": "code",
   "execution_count": 47,
   "id": "dd4aa1b5-7ae4-4512-b8dd-8aab7ee8ad1b",
   "metadata": {},
   "outputs": [],
   "source": [
    "def recommend(book_name):\n",
    "    index = books[books['title']==book_name].index\n",
    "    similar_books_with_index = list(enumerate(similar_books[index][0]))\n",
    "    our_books = sorted(similar_books_with_index,reverse=True,key=lambda x:x[1])[1:6]\n",
    "    for index,_ in our_books:\n",
    "        print(books.iloc[index]['title'])"
   ]
  },
  {
   "cell_type": "code",
   "execution_count": 48,
   "id": "a13d24f3-21b8-49ff-97fe-cb284ca76a6c",
   "metadata": {},
   "outputs": [
    {
     "name": "stdout",
     "output_type": "stream",
     "text": [
      "Harry Potter and the Deathly Hallows\n",
      "The Lightning Thief\n",
      "The Book Thief\n",
      "The Arrival\n",
      "Elijah of Buxton\n"
     ]
    }
   ],
   "source": [
    "recommend('Twilight')"
   ]
  },
  {
   "cell_type": "code",
   "execution_count": 49,
   "id": "52844477-97f5-498e-ba70-08773d8f8078",
   "metadata": {},
   "outputs": [],
   "source": [
    "import pickle as pk"
   ]
  },
  {
   "cell_type": "code",
   "execution_count": 50,
   "id": "60252019-ee15-41b1-8050-11609864fa94",
   "metadata": {},
   "outputs": [],
   "source": [
    "pk.dump(similar_books,open('Similar_books.pkl','wb'))"
   ]
  },
  {
   "cell_type": "code",
   "execution_count": 51,
   "id": "6e9718ed-2426-44d5-851f-738a99c14f74",
   "metadata": {},
   "outputs": [],
   "source": [
    "pk.dump(tfifd,open('Text_Vectorizer.pkl','wb'))"
   ]
  }
 ],
 "metadata": {
  "kernelspec": {
   "display_name": "Python 3 (ipykernel)",
   "language": "python",
   "name": "python3"
  },
  "language_info": {
   "codemirror_mode": {
    "name": "ipython",
    "version": 3
   },
   "file_extension": ".py",
   "mimetype": "text/x-python",
   "name": "python",
   "nbconvert_exporter": "python",
   "pygments_lexer": "ipython3",
   "version": "3.11.7"
  }
 },
 "nbformat": 4,
 "nbformat_minor": 5
}
